{
 "cells": [
  {
   "cell_type": "code",
   "execution_count": null,
   "id": "dcb5c28a",
   "metadata": {},
   "outputs": [],
   "source": [
    "from matplotlib import pyplot as plt\n",
    "import seaborn as sns\n",
    "import pandas as pd\n",
    "import numpy as np\n",
    "from pandasql import sqldf\n",
    "from sklearn import preprocessing\n",
    "pd.set_option('display.max_columns', None)\n",
    "pd.set_option('display.max_rows', 700)\n",
    "\n",
    "with open('output.csv') as f:\n",
    "    print(f)\n",
    "\n",
    "    \n",
    "deferments = pd.read_csv(\"output.csv\", sep = \";\", encoding =\"unicode_escape\")\n",
    "design = pd.read_csv(\"Designs_alle.csv\", sep = \";\")\n",
    "tiefpumpen = pd.read_csv(\"Tiefpumpen.csv\", sep = \";\")\n",
    "data = pd.read_csv(\"Designs_alle1.csv\",  sep = \";\", thousands=',')\n",
    "runlife = pd.read_csv(\"RUNLIFE_final1.csv\", sep = \";\")\n",
    "\n",
    "data_design = data.drop(data.loc[:,'TYP':'D#KUM_LASTWECHSEL_LAST_CALC'], axis = 1)\n",
    "data_design = data_design.drop_duplicates()\n",
    "\n",
    "data_tp = data.drop(data.loc[:, 'PK#ID_1':'DYNO_AUFNAHME'], axis = 1)\n",
    "data_tp = data_tp.drop(columns = ['PK#ID','FARBCODE','DATUM','BEARBEITER','BEARBEITER#X_KEY','AUSFALLDATUM','BEHANDLUNGSGRUND'])\n",
    "data_tp = data_tp.drop(data_tp.loc[:, 'FAE3':'FLG_FREIGABE'], axis = 1)\n",
    "data_tp = data_tp.drop_duplicates()\n",
    "\n",
    "data_raw = sqldf(\"SELECT runlife.*, data_tp.* \\\n",
    "      FROM runlife JOIN data_tp ON runlife.tp_nummer = data_tp.tiefpumpennummer \\\n",
    "      AND runlife.sondenkurzname_1 = data_tp.sondenkurzname\")\n",
    "\n",
    "data = sqldf(\"SELECT data_raw.*, data_design.* \\\n",
    "      FROM data_raw JOIN data_design ON data_raw.datum_1 = data_design.datum_1 \\\n",
    "      AND data_raw.sondenkurzname_1 = data_design.sondenkurzname_1\")\n",
    "\n",
    "data['KUM_ARBEITSTAGE'] = data['KUM_ARBEITSTAGE'].astype(float)\n",
    "\n",
    "data = sqldf(\"SELECT * FROM data WHERE runlife > 0 AND runlife IS NOT NULL\").drop_duplicates()\n",
    "\n",
    "data_deferments = sqldf(\"SELECT data.*, deferments.* FROM data JOIN deferments ON data.tp_nummer = deferments.tpnummer\")\n",
    "deta_deferments = data_deferments.drop_duplicates()\n",
    "\n",
    "deta_deferments"
   ]
  },
  {
   "cell_type": "code",
   "execution_count": null,
   "id": "4dd4a2ca",
   "metadata": {},
   "outputs": [],
   "source": [
    "sqldf(\"SELECT level4, count(level4) FROM data_deferments WHERE abstellgrund LIKE '%Installation undicht%' GROUP BY level4 ORDER BY \\\n",
    "count(level4) DESC\")"
   ]
  },
  {
   "cell_type": "code",
   "execution_count": null,
   "id": "ad990b0e",
   "metadata": {},
   "outputs": [],
   "source": [
    "sqldf(\"SELECT level4, count(level4) FROM data_deferments WHERE level3a LIKE '%Valve rod%' GROUP BY level4 ORDER BY \\\n",
    "count(level4) DESC\")"
   ]
  },
  {
   "cell_type": "code",
   "execution_count": null,
   "id": "77283d5e",
   "metadata": {
    "scrolled": true
   },
   "outputs": [],
   "source": [
    "datum = pd.to_datetime(data['DATUM_1'], format=\"%m.%d.%Y %H:%M:%S\")\n",
    "pumpdurchmesser = data['API_KURZBEZ_TEIL1'].str[3:]\n",
    "pumpentyp = pd.get_dummies(data['API_KURZBEZ_TEIL2'])\n",
    "pgzustand = pd.get_dummies(data['PG_TYP2'])\n",
    "tubingcondition = pd.get_dummies(data['TUB_TYP2'])\n",
    "gasanker = pd.get_dummies(data['GAS_ANKER'])\n",
    "packer = pd.get_dummies(data['PACK_ANKER'])\n",
    "hubzahl = data['HUBZAHL']\n",
    "hublaenge = data['HUBLAENGE']\n",
    "farr = data['SPEZ_FARR'].fillna(0).astype(int)\n",
    "spez1 = pd.get_dummies(data['SPEZ_EQUI1'])\n",
    "spez2 = pd.get_dummies(data['SPEZ_EQUI2'])\n",
    "spez3 = pd.get_dummies(data['SPEZ_EQUI3'])\n",
    "spez4 = pd.get_dummies(data['SPEZ_EQUI4'])\n",
    "spez5 = pd.get_dummies(data['SPEZ_EQUI5'])\n",
    "spez6 = pd.get_dummies(data['SPEZ_EQUI6'])\n",
    "\n",
    "workdata = pd.concat([data['SONDENKURZNAME_1'], datum,\n",
    "                      data['RUNLIFE'],data['DOGLEG'],\n",
    "                      data['ABSETZTEUFE'],data['HUBZAHL'],\n",
    "                      data['HUBLAENGE'], hublaenge, pumpdurchmesser,\n",
    "                      pumpentyp, pgzustand, tubingcondition, gasanker, packer,\n",
    "                      spez1, spez2, spez3, spez4, spez5, spez6, tubingcondition], axis = 1)\n",
    "\n",
    "features_grouped = workdata.groupby(workdata.columns, axis=1).sum()\n",
    "\n",
    "farr_heavycage_brass = features_grouped['TP mit FARR Pl., Messing-Barrel und schweren Kugeln & Sitzen ausstatten']\n",
    "heavycage = features_grouped['!!OLD!!DONT USE!! TP mit schweren Kugeln und Sitzen ausstatten']\n",
    "\n",
    "features_grouped['Tubing_pump'] = features_grouped['TH']\n",
    "features_grouped['Sand_filter'] = features_grouped['Conslot Filter'] + features_grouped['Stanley Filter']\n",
    "features_grouped['New_tubing'] = features_grouped['neu'] + features_grouped['gelb']\n",
    "features_grouped['Spiral_rod_guides'] = features_grouped['Spiral Rod Guide 2 7/8\"'] + features_grouped['Spiral Rod Guide 3 1/2\"']\n",
    "features_grouped['Heavy_wall_barrel'] = features_grouped['RHAC'] + features_grouped['RHBM'] + features_grouped['TH']\n",
    "features_grouped['Jacket_pipe'] = features_grouped['Mantelrohr 2 7/8\"'] + features_grouped['Mantelrohr 3 1/2\"']\n",
    "features_grouped['Gas_separator'] = features_grouped['Gasanker'] + features_grouped['Gasseparator - PCM']\n",
    "features_grouped['Brass_barrel'] = features_grouped['Messingbarrel'] + farr_heavycage_brass\n",
    "features_grouped['FARR_plunger'] = farr + farr_heavycage_brass\n",
    "features_grouped['Heavy_cages_balls'] = heavycage + farr_heavycage_brass\n",
    "features_grouped['Tubing_anchored'] = features_grouped['Steigrohranker'] + features_grouped['LSP ohne Gummi']\n",
    "features_grouped['A4_valve_balls'] = np.sign(features_grouped['A4 Ventilkugeln'] + \\\n",
    "                                             features_grouped['Heavy_cages_balls'])\n",
    "\n",
    "features_grouped['A4_valve_balls'] = np.sign(features_grouped['A4 Ventilkugeln'])\n",
    "features_grouped['A6_valve_balls'] = np.sign(features_grouped['A6 Ventilkugeln'])\n",
    "features_grouped['Sand_filter'] = np.sign(features_grouped['Sand_filter'].astype(int))\n",
    "features_grouped['New_tubing'] = np.sign(features_grouped['New_tubing'])\n",
    "features_grouped['Spiral_rod_guides'] = np.sign(features_grouped['Spiral_rod_guides'])\n",
    "features_grouped['Heavy_wall_barrel'] = np.sign(features_grouped['Heavy_wall_barrel'].astype(int))\n",
    "features_grouped['Gas_separator'] = np.sign(features_grouped['Gas_separator'].astype(int))\n",
    "features_grouped['Brass_barrel'] = np.sign(features_grouped['Brass_barrel'].astype(int))\n",
    "features_grouped['FARR_plunger'] = np.sign(features_grouped['FARR_plunger'].astype(int))\n",
    "features_grouped['Tubing_anchored'] = np.sign(features_grouped['Tubing_anchored'].astype(int))\n",
    "features_grouped['Setting_depth'] = features_grouped['ABSETZTEUFE']\n",
    "features_grouped['Pump_bore'] = features_grouped['API_KURZBEZ_TEIL1'].astype(int)\n",
    "features_grouped['Stroke_length'] = features_grouped['HUBLAENGE']\n",
    "features_grouped['Pumping_speed'] = features_grouped['HUBZAHL']\n",
    "features_grouped['DLS'] = features_grouped['DOGLEG']\n",
    "features_grouped['Full_flow_cages'] = np.sign(features_grouped['Full Flow Cages'])\n",
    "features_grouped['Mod_valve_rod_bearing'] = np.sign(features_grouped['Modifizierte \\\n",
    "Kolbenstangenführung mit Insert'])\n",
    "features_grouped['Gas_lock_breaker'] = np.sign(features_grouped['Gas Lock Breaker'])\n",
    "features_grouped['Closed_installation'] = np.sign(features_grouped['geschlossene Installation'].astype(int))\n",
    "features_grouped['Collet_valve_rod_bushing'] = np.sign(features_grouped['Collet/Lock Type Valve Rod Bushing'])\n",
    "\n",
    "\n",
    "features_grouped['FARR_plunger'] = features_grouped['FARR_plunger'].fillna(0)\n",
    "\n",
    "features_grouped = features_grouped.drop(columns =['Conslot Filter', 'Stanley Filter',\n",
    "                                                  'neu', 'gebr.', 'weiß', 'gelb',\n",
    "                                                   'Full Flow Cages', 'Gas Lock Breaker',\n",
    "                                                   'geschlossene Installation',\n",
    "                                                   'Collet/Lock Type Valve Rod Bushing',\n",
    "                                                   'Modifizierte Kolbenstangenführung mit Insert',\n",
    "                                                  'Spiral Rod Guide 2 7/8\"', 'Spiral Rod Guide 3 1/2\"',\n",
    "                                                  'RHAC', 'RHBM', 'RWAC', 'TH', 'DOGLEG',\n",
    "                                                   'Mantelrohr 2 7/8\"', 'Mantelrohr 3 1/2\"',\n",
    "                                                  'La Bomba Memory Gauge', 'Gasanker',\n",
    "                                                   'Gasseparator - PCM', 'A4 Ventilkugeln',\n",
    "                                                  'A6 Ventilkugeln','Messingbarrel', 'ABSETZTEUFE',\n",
    "                                                  'API_KURZBEZ_TEIL1', 'HUBLAENGE', 'HUBZAHL',\n",
    "                                                   'Steigrohranker', 'LSP ohne Gummi',\n",
    "                                                   'Heavy_cages_balls',\n",
    "                                                   'TP mit FARR Pl., Messing-Barrel und schweren Kugeln & Sitzen ausstatten',\n",
    "                                                  '!!OLD!!DONT USE!! TP mit schweren Kugeln und Sitzen ausstatten'])\n",
    "\n",
    "features_grouped = features_grouped.drop_duplicates()\n",
    "\n",
    "binary_features = ['Desander','Tubing_pump','Sand_filter','New_tubing','Spiral_rod_guides',\n",
    "                   'Heavy_wall_barrel','Jacket_pipe','Gas_separator','Brass_barrel',\n",
    "                   'FARR_plunger','Tubing_anchored', 'A4_valve_balls',\n",
    "                   'A6_valve_balls','Full_flow_cages','Mod_valve_rod_bearing','Gas_lock_breaker',\n",
    "                   'Closed_installation', 'Collet_valve_rod_bushing']\n",
    "\n",
    "continuous_features = ['DLS','Setting_depth','Pumping_speed','Stroke_length']\n",
    "\n",
    "units = {'DLS':'[°/30m]','Setting_depth':'[m]','Pumping_speed':'[spm]','Stroke_length':'[m]',\n",
    "         'Pump_bore':'[mm]'}\n",
    "         \n",
    "categorical_features = ['Pump_bore']\n",
    "\n",
    "features_grouped"
   ]
  },
  {
   "cell_type": "code",
   "execution_count": null,
   "id": "eb35614c-88db-4878-95e6-bc98e89894c7",
   "metadata": {},
   "outputs": [],
   "source": [
    "ax = features_grouped.plot.scatter(x='DLS', y='RUNLIFE')\n",
    "plt.xlabel('DLS [°/30m]')\n",
    "plt.ylabel('Runlife [d]')\n",
    "plt.show()"
   ]
  },
  {
   "cell_type": "code",
   "execution_count": null,
   "id": "3b08e315-2624-420d-ad24-00fd47c8de04",
   "metadata": {},
   "outputs": [],
   "source": [
    "features_grouped = sqldf(\"SELECT * FROM features_grouped WHERE DLS < 25\")"
   ]
  },
  {
   "cell_type": "code",
   "execution_count": null,
   "id": "df072e21",
   "metadata": {},
   "outputs": [],
   "source": [
    "for i in range(len(binary_features)):\n",
    "    ax = sns.boxplot(x=binary_features[i],y='RUNLIFE',data=features_grouped, width = 0.5, color = 'tab:blue')\n",
    "    plt.show()\n"
   ]
  },
  {
   "cell_type": "code",
   "execution_count": null,
   "id": "6f7dfadc",
   "metadata": {},
   "outputs": [],
   "source": [
    "for i in range(len(categorical_features)):\n",
    "    ax = sns.boxplot(x=categorical_features[i],y='RUNLIFE',data=features_grouped, width = 0.5, color = 'tab:blue')\n",
    "    plt.xlabel(categorical_features[i] + ' ' + units[categorical_features[i]])\n",
    "    plt.ylabel('Runlife [d]')\n",
    "    plt.show()"
   ]
  },
  {
   "cell_type": "code",
   "execution_count": null,
   "id": "80f0bf1f",
   "metadata": {},
   "outputs": [],
   "source": [
    "for i in range(len(continuous_features)):\n",
    "    ax = features_grouped.plot.scatter(x=continuous_features[i], y='RUNLIFE')\n",
    "    plt.xlabel(continuous_features[i] + ' ' + units[continuous_features[i]])\n",
    "    plt.ylabel('Runlife [d]')\n",
    "    plt.show()"
   ]
  },
  {
   "cell_type": "code",
   "execution_count": null,
   "id": "42bfbbf2",
   "metadata": {},
   "outputs": [],
   "source": [
    "ax = features_grouped.plot.scatter(x='DLS', y='Setting_depth')\n",
    "plt.xlabel('DLS [°/30m]')\n",
    "plt.ylabel('Setting_depth [m]')\n",
    "plt.show()"
   ]
  },
  {
   "cell_type": "code",
   "execution_count": null,
   "id": "62c8239e",
   "metadata": {},
   "outputs": [],
   "source": [
    "datum = pd.to_datetime(data_deferments['DATUM_1'], format=\"%m.%d.%Y %H:%M:%S\")\n",
    "pumpdurchmesser = data_deferments['API_KURZBEZ_TEIL1'].str[3:]\n",
    "pumpentyp = pd.get_dummies(data_deferments['API_KURZBEZ_TEIL2'])\n",
    "pgzustand = pd.get_dummies(data_deferments['PG_TYP2'])\n",
    "tubingcondition = pd.get_dummies(data_deferments['TUB_TYP2'])\n",
    "gasanker = pd.get_dummies(data_deferments['GAS_ANKER'])\n",
    "packer = pd.get_dummies(data_deferments['PACK_ANKER'])\n",
    "hubzahl = data_deferments['HUBZAHL']\n",
    "hublaenge = data_deferments['HUBLAENGE']\n",
    "farr = data_deferments['SPEZ_FARR'].fillna(0).astype(int)\n",
    "spez1 = pd.get_dummies(data_deferments['SPEZ_EQUI1'])\n",
    "spez2 = pd.get_dummies(data_deferments['SPEZ_EQUI2'])\n",
    "spez3 = pd.get_dummies(data_deferments['SPEZ_EQUI3'])\n",
    "spez4 = pd.get_dummies(data_deferments['SPEZ_EQUI4'])\n",
    "spez5 = pd.get_dummies(data_deferments['SPEZ_EQUI5'])\n",
    "spez6 = pd.get_dummies(data_deferments['SPEZ_EQUI6'])\n",
    "\n",
    "workdata = pd.concat([data_deferments['SONDENKURZNAME_1'],\n",
    "                      data_deferments['ABSTELLGRUND'], datum,\n",
    "                      data_deferments['RUNLIFE'],data_deferments['DOGLEG'],\n",
    "                      data_deferments['ABSETZTEUFE'],data_deferments['HUBZAHL'],\n",
    "                      data_deferments['HUBLAENGE'], data_deferments['LEVEL3'],\n",
    "                      data_deferments['LEVEL3A'], data_deferments['LEVEL4'],\n",
    "                      data_deferments['LEVEL5'], hublaenge, pumpdurchmesser,\n",
    "                      pumpentyp, pgzustand, tubingcondition, gasanker, packer,\n",
    "                      spez1, spez2, spez3, spez4, spez5, spez6, tubingcondition], axis = 1)\n",
    "\n",
    "features_grouped = workdata.groupby(workdata.columns, axis=1).sum()\n",
    "\n",
    "farr_heavycage_brass = features_grouped['TP mit FARR Pl., Messing-Barrel und schweren Kugeln & Sitzen ausstatten']\n",
    "heavycage = features_grouped['!!OLD!!DONT USE!! TP mit schweren Kugeln und Sitzen ausstatten']\n",
    "\n",
    "features_grouped['Tubing_pump'] = features_grouped['TH']\n",
    "features_grouped['Sand_filter'] = features_grouped['Conslot Filter'] + features_grouped['Stanley Filter']\n",
    "features_grouped['New_tubing'] = features_grouped['neu'] + features_grouped['gelb']\n",
    "features_grouped['Spiral_rod_guides'] = features_grouped['Spiral Rod Guide 2 7/8\"'] + features_grouped['Spiral Rod Guide 3 1/2\"']\n",
    "features_grouped['Heavy_wall_barrel'] = features_grouped['RHAC'] + features_grouped['RHBM'] + features_grouped['TH']\n",
    "features_grouped['Jacket_pipe'] = features_grouped['Mantelrohr 2 7/8\"'] + features_grouped['Mantelrohr 3 1/2\"']\n",
    "features_grouped['Gas_separator'] = features_grouped['Gasanker'] + features_grouped['Gasseparator - PCM']\n",
    "features_grouped['Brass_barrel'] = features_grouped['Messingbarrel'] + farr_heavycage_brass\n",
    "features_grouped['FARR_plunger'] = farr + farr_heavycage_brass\n",
    "features_grouped['Heavy_cages_balls'] = heavycage + farr_heavycage_brass\n",
    "features_grouped['Tubing_anchored'] = features_grouped['Steigrohranker'] + features_grouped['LSP ohne Gummi']\n",
    "features_grouped['A4_valve_balls'] = np.sign(features_grouped['A4 Ventilkugeln'] + \\\n",
    "                                             features_grouped['Heavy_cages_balls'])\n",
    "\n",
    "features_grouped['A4_valve_balls'] = np.sign(features_grouped['A4 Ventilkugeln'])\n",
    "features_grouped['A4_valve_balls'] = np.sign(features_grouped['A4 Ventilkugeln'])\n",
    "features_grouped['A6_valve_balls'] = np.sign(features_grouped['A6 Ventilkugeln'])\n",
    "features_grouped['Sand_filter'] = np.sign(features_grouped['Sand_filter'].astype(int))\n",
    "features_grouped['New_tubing'] = np.sign(features_grouped['New_tubing'].astype(int))\n",
    "features_grouped['Spiral_rod_guides'] = np.sign(features_grouped['Spiral_rod_guides'].astype(int))\n",
    "features_grouped['Heavy_wall_barrel'] = np.sign(features_grouped['Heavy_wall_barrel'].astype(int))\n",
    "features_grouped['Gas_separator'] = np.sign(features_grouped['Gas_separator'].astype(int))\n",
    "features_grouped['Brass_barrel'] = np.sign(features_grouped['Brass_barrel'].astype(int))\n",
    "features_grouped['FARR_plunger'] = np.sign(features_grouped['FARR_plunger'].astype(int))\n",
    "features_grouped['Tubing_anchored'] = np.sign(features_grouped['Tubing_anchored'].astype(int))\n",
    "features_grouped['Setting_depth'] = features_grouped['ABSETZTEUFE']\n",
    "features_grouped['Pump_bore'] = features_grouped['API_KURZBEZ_TEIL1'].astype(int)\n",
    "features_grouped['Stroke_length'] = features_grouped['HUBLAENGE']\n",
    "features_grouped['Pumping_speed'] = features_grouped['HUBZAHL']\n",
    "features_grouped['DLS'] = features_grouped['DOGLEG']\n",
    "features_grouped['Full_flow_cages'] = np.sign(features_grouped['Full Flow Cages'].astype(int))\n",
    "features_grouped['Mod_valve_rod_bearing'] = np.sign(features_grouped['Modifizierte \\\n",
    "Kolbenstangenführung mit Insert'].astype(int))\n",
    "features_grouped['Gas_lock_breaker'] = np.sign(features_grouped['Gas Lock Breaker'].astype(int))\n",
    "features_grouped['Closed_installation'] = np.sign(features_grouped['geschlossene Installation'].astype(int))\n",
    "features_grouped['Collet_valve_rod_bushing'] = np.sign(features_grouped['Collet/Lock Type Valve Rod Bushing'].astype(int))\n",
    "\n",
    "\n",
    "features_grouped['FARR_plunger'] = features_grouped['FARR_plunger'].fillna(0)\n",
    "\n",
    "features_grouped = features_grouped.drop(columns =['Conslot Filter', 'Stanley Filter',\n",
    "                                                  'neu', 'gebr.', 'weiß', 'gelb',\n",
    "                                                   'Full Flow Cages', 'Gas Lock Breaker',\n",
    "                                                   'geschlossene Installation',\n",
    "                                                   'Collet/Lock Type Valve Rod Bushing',\n",
    "                                                   'Modifizierte Kolbenstangenführung mit Insert',\n",
    "                                                  'Spiral Rod Guide 2 7/8\"', 'Spiral Rod Guide 3 1/2\"',\n",
    "                                                  'RHAC', 'RHBM', 'RWAC', 'TH', 'DOGLEG',\n",
    "                                                   'Mantelrohr 2 7/8\"', 'Mantelrohr 3 1/2\"',\n",
    "                                                  'La Bomba Memory Gauge', 'Gasanker',\n",
    "                                                   'Gasseparator - PCM', 'A4 Ventilkugeln',\n",
    "                                                  'A6 Ventilkugeln','Messingbarrel', 'ABSETZTEUFE',\n",
    "                                                  'API_KURZBEZ_TEIL1', 'HUBLAENGE', 'HUBZAHL',\n",
    "                                                   'Steigrohranker', 'LSP ohne Gummi',\n",
    "                                                   'Heavy_cages_balls',\n",
    "                                                   'TP mit FARR Pl., Messing-Barrel und schweren Kugeln & Sitzen ausstatten',\n",
    "                                                  '!!OLD!!DONT USE!! TP mit schweren Kugeln und Sitzen ausstatten'])\n",
    "\n",
    "features_grouped = features_grouped.drop_duplicates()\n",
    "\n",
    "features_pgbruch = sqldf(\"SELECT * FROM features_grouped WHERE abstellgrund LIKE '%Pumpgestängebruch'\")\n",
    "features_tpfehler = sqldf(\"SELECT * FROM features_grouped WHERE abstellgrund LIKE '%Tiefpumpenfehler'\")\n",
    "features_undicht = sqldf(\"SELECT * FROM features_grouped WHERE abstellgrund LIKE '%Installation undicht'\")\n",
    "\n",
    "binary_features = ['Desander','Tubing_pump','Sand_filter','New_tubing','Spiral_rod_guides',\n",
    "                   'Heavy_wall_barrel','Jacket_pipe','Gas_separator','Brass_barrel',\n",
    "                   'FARR_plunger','Tubing_anchored', 'A4_valve_balls',\n",
    "                   'A6_valve_balls','Full_flow_cages','Mod_valve_rod_bearing','Gas_lock_breaker',\n",
    "                   'Closed_installation', 'Collet_valve_rod_bushing']\n",
    "\n",
    "continuous_features = ['DLS','Setting_depth','Pumping_speed','Stroke_length']\n",
    "\n",
    "categorical_features = ['Pump_bore']\n",
    "\n",
    "features_grouped"
   ]
  },
  {
   "cell_type": "code",
   "execution_count": null,
   "id": "fd7cc269",
   "metadata": {},
   "outputs": [],
   "source": [
    "sqldf(\"SELECT * FROM features_grouped WHERE DLS > 10\")"
   ]
  },
  {
   "cell_type": "code",
   "execution_count": null,
   "id": "91467723",
   "metadata": {},
   "outputs": [],
   "source": [
    "for i in range(len(categorical_features)):\n",
    "    ax = sns.boxplot(x=categorical_features[i],y='RUNLIFE',data=features_grouped, width = 0.5, color = 'tab:blue')\n",
    "    plt.xlabel(categorical_features[i] + ' ' + units[categorical_features[i]])\n",
    "    plt.ylabel('Runlife [d]')\n",
    "    plt.show()"
   ]
  },
  {
   "cell_type": "code",
   "execution_count": null,
   "id": "1d9ddf5e",
   "metadata": {},
   "outputs": [],
   "source": [
    "for i in range(len(binary_features)):\n",
    "    ax = sns.boxplot(x=binary_features[i],y='RUNLIFE',data=features_pgbruch, width = 0.5, color = 'tab:blue')\n",
    "    plt.show()"
   ]
  },
  {
   "cell_type": "code",
   "execution_count": null,
   "id": "fd07dfa2",
   "metadata": {},
   "outputs": [],
   "source": [
    "for i in range(len(continuous_features)):\n",
    "    ax = features_pgbruch.plot.scatter(x=continuous_features[i], y='RUNLIFE')\n",
    "    plt.xlabel(continuous_features[i] + ' ' + units[continuous_features[i]])\n",
    "    plt.ylabel('Runlife [d]')\n",
    "    plt.show()"
   ]
  },
  {
   "cell_type": "code",
   "execution_count": null,
   "id": "27d1d273",
   "metadata": {},
   "outputs": [],
   "source": [
    "for i in range(len(categorical_features)):\n",
    "    ax = sns.boxplot(x=categorical_features[i],y='RUNLIFE',data=features_pgbruch, width = 0.5, color = 'tab:blue')\n",
    "    plt.xlabel(categorical_features[i] + ' ' + units[categorical_features[i]])\n",
    "    plt.ylabel('Runlife [d]')\n",
    "    plt.show()"
   ]
  },
  {
   "cell_type": "code",
   "execution_count": null,
   "id": "e23c6c58",
   "metadata": {},
   "outputs": [],
   "source": [
    "for i in range(len(binary_features)):\n",
    "    ax = sns.boxplot(x=binary_features[i],y='RUNLIFE',data=features_tpfehler, width = 0.5, color = 'tab:blue')\n",
    "    plt.show()"
   ]
  },
  {
   "cell_type": "code",
   "execution_count": null,
   "id": "93879eb9",
   "metadata": {},
   "outputs": [],
   "source": [
    "for i in range(len(continuous_features)):\n",
    "    ax = features_tpfehler.plot.scatter(x=continuous_features[i], y='RUNLIFE')\n",
    "    plt.xlabel(continuous_features[i] + ' ' + units[continuous_features[i]])\n",
    "    plt.ylabel('Runlife [d]')\n",
    "    plt.show()"
   ]
  },
  {
   "cell_type": "code",
   "execution_count": null,
   "id": "e1ae10f3",
   "metadata": {},
   "outputs": [],
   "source": [
    "for i in range(len(categorical_features)):\n",
    "    ax = sns.boxplot(x=categorical_features[i],y='RUNLIFE',data=features_tpfehler, width = 0.5, color = 'tab:blue')\n",
    "    plt.xlabel(categorical_features[i] + ' ' + units[categorical_features[i]])\n",
    "    plt.ylabel('Runlife [d]')\n",
    "    plt.show()"
   ]
  },
  {
   "cell_type": "code",
   "execution_count": null,
   "id": "9f018bc9",
   "metadata": {},
   "outputs": [],
   "source": [
    "for i in range(len(binary_features)):\n",
    "    ax = sns.boxplot(x=binary_features[i],y='RUNLIFE',data=features_undicht, width = 0.5, color = 'tab:blue')\n",
    "    plt.show()"
   ]
  },
  {
   "cell_type": "code",
   "execution_count": null,
   "id": "de0439c7",
   "metadata": {},
   "outputs": [],
   "source": [
    "for i in range(len(continuous_features)):\n",
    "    ax = features_undicht.plot.scatter(x=continuous_features[i], y='RUNLIFE')\n",
    "    plt.show()"
   ]
  },
  {
   "cell_type": "code",
   "execution_count": null,
   "id": "5c6fdeac",
   "metadata": {},
   "outputs": [],
   "source": [
    "for i in range(len(categorical_features)):\n",
    "    ax = sns.boxplot(x=categorical_features[i],y='RUNLIFE',data=features_tpfehler, width = 0.5, color = 'tab:blue')\n",
    "    plt.xlabel(categorical_features[i] + ' ' + units[categorical_features[i]])\n",
    "    plt.ylabel('Runlife [d]')\n",
    "    plt.show()"
   ]
  },
  {
   "cell_type": "code",
   "execution_count": null,
   "id": "22643d6b",
   "metadata": {},
   "outputs": [],
   "source": [
    "df = (features_grouped.copy())\n",
    "\n",
    "df['DATUM_1'] =  pd.to_datetime(df['DATUM_1'], format=\"%m.%d.%Y %H:%M:%S\")\n",
    "\n",
    "df = df.sort_values(['SONDENKURZNAME_1', 'DATUM_1'], ascending = [True, True])\n",
    "\n",
    "df = df.reset_index(drop = True)\n",
    "\n",
    "components = ['Desander','Sand_filter','Spiral_rod_guides',\n",
    "             'Jacket_pipe','Gas_separator','Brass_barrel',\n",
    "              'A4_valve_balls','FARR_plunger','Full_flow_cages',\n",
    "              'Mod_valve_rod_bearing','Gas_lock_breaker', \n",
    "              'Collet_valve_rod_bushing', 'Jacket_pipe']\n",
    "\n",
    "rca_levels = ['ABSTELLGRUND','LEVEL3','LEVEL3A','LEVEL4','LEVEL5']\n",
    "\n",
    " \n",
    "def installment_check(df,components, rca_levels):\n",
    "    \n",
    "    df['Trend'] = np.nan\n",
    "    df['Delta_runlife'] = np.nan\n",
    "    df['Delta_depth'] = np.nan\n",
    "    df['Delta_DLS'] = np.nan\n",
    "    df['Delta_Pumping_speed'] = np.nan\n",
    "    df['Different_Abstellgrund'] = np.nan\n",
    "    \n",
    "    for i in range (len(components)):\n",
    "        column_name = 'Installment_' + components[i]\n",
    "        df[column_name] = np.nan\n",
    "\n",
    "    for i in range (len(rca_levels)):\n",
    "        column_name = 'Previous_' + rca_levels[i]\n",
    "        df[column_name] = np.nan\n",
    "    \n",
    "    for i in range(len(df)-1):\n",
    "        if df.at[i, 'SONDENKURZNAME_1'] == df.at[i+1, 'SONDENKURZNAME_1']:\n",
    "            \n",
    "            for j in range(len(components)):\n",
    "                if df.at[i, components[j]] > df.at[i+1, components[j]]:\n",
    "                    df.loc[i+1,['Installment_' + components[j]]] = 'Component removed'\n",
    "                    \n",
    "                if df.at[i, components[j]] < df.at[i+1, components[j]]:\n",
    "                    df.loc[i+1,['Installment_' + components[j]]] = 'Component installed'\n",
    "\n",
    "                if df.at[i, components[j]] == df.at[i+1, components[j]]:\n",
    "                    df.loc[i+1,['Installment_' + components[j]]] = 'Same design'\n",
    "                    \n",
    "            for j in range(len(rca_levels)):\n",
    "                    df.loc[i+1,['Previous_' + rca_levels[j]]] =  \\\n",
    "                    df.loc[i,rca_levels[j]]\n",
    "\n",
    "            df.loc[i+1,['Delta_runlife']] = df.at[i+1, 'RUNLIFE'] - df.at[i, 'RUNLIFE']\n",
    "            df.loc[i+1,['Delta_depth']] = df.at[i+1, 'Setting_depth'] - df.at[i, 'Setting_depth']\n",
    "            df.loc[i+1,['Delta_DLS']] = df.at[i+1, 'DLS'] - df.at[i, 'DLS']\n",
    "            df.loc[i+1,['Delta_Pumping_speed']] = df.at[i+1, 'Pumping_speed'] - df.at[i, 'Pumping_speed']        \n",
    "                    \n",
    "            if df.at[i, 'RUNLIFE'] < df.at[i+1, 'RUNLIFE']:\n",
    "                df.loc[i+1,['Trend']] = 'Higher'\n",
    "\n",
    "            elif df.at[i, 'RUNLIFE'] > df.at[i+1, 'RUNLIFE']:\n",
    "                df.loc[i+1,['Trend']] = 'Lower'\n",
    "                \n",
    "            if df.at[i, 'ABSTELLGRUND'] == df.at[i+1, 'ABSTELLGRUND']:\n",
    "                df.loc[i+1,['Different_Abstellgrund']] = False\n",
    "\n",
    "            else:\n",
    "                df.loc[i+1,['Different_Abstellgrund']] = True\n",
    "            \n",
    "    return df\n",
    "\n",
    "installment_check(df,components,rca_levels)"
   ]
  },
  {
   "cell_type": "code",
   "execution_count": null,
   "id": "cd18eddb",
   "metadata": {
    "scrolled": true
   },
   "outputs": [],
   "source": [
    "installment_ffc = sqldf(\"SELECT sondenkurzname_1 AS Name, abstellgrund, runlife, delta_runlife, \\\n",
    "Different_abstellgrund, level3, \\\n",
    "level3A, level4, level5, previous_abstellgrund, previous_level3, previous_level3a, previous_level4,\\\n",
    "previous_level5  \\\n",
    "FROM df WHERE [Installment_full_flow_cages] LIKE \\\n",
    "'%Component installed%'\") \n",
    "\n",
    "print(installment_ffc['Delta_runlife'].mean())\n",
    "print(installment_ffc['Different_Abstellgrund'].sum())\n",
    "\n",
    "installment_ffc"
   ]
  },
  {
   "cell_type": "code",
   "execution_count": null,
   "id": "8f637f3b",
   "metadata": {},
   "outputs": [],
   "source": [
    "installment_farr = sqldf(\"SELECT sondenkurzname_1, abstellgrund, runlife, delta_runlife, \\\n",
    "Different_abstellgrund, datum_1, level3, \\\n",
    "level3A, level4, level5, previous_abstellgrund, previous_level3, previous_level3a, previous_level4,\\\n",
    "previous_level5  \\\n",
    "FROM df WHERE Installment_FARR_plunger LIKE \\\n",
    "'%Component installed%'\") \n",
    "\n",
    "print(installment_farr['Delta_runlife'].mean())\n",
    "print(installment_farr['Different_Abstellgrund'].sum())\n",
    "\n",
    "installment_farr"
   ]
  },
  {
   "cell_type": "code",
   "execution_count": null,
   "id": "937044e4",
   "metadata": {},
   "outputs": [],
   "source": [
    "installment_mod_valve = sqldf(\"SELECT sondenkurzname_1, abstellgrund, runlife as RL, delta_runlife, \\\n",
    "Different_abstellgrund, level3, \\\n",
    "level3A, level4, level5, previous_abstellgrund, previous_level3, previous_level3a, previous_level4,\\\n",
    "previous_level5  \\\n",
    "FROM df WHERE [Installment_mod_valve_rod_bearing] LIKE \\\n",
    "'%Component installed%'\") \n",
    "\n",
    "print(installment_mod_valve['Delta_runlife'].mean())\n",
    "print(installment_mod_valve['Different_Abstellgrund'].sum())\n",
    "\n",
    "installment_mod_valve"
   ]
  },
  {
   "cell_type": "code",
   "execution_count": null,
   "id": "a65706ab",
   "metadata": {},
   "outputs": [],
   "source": [
    "installment_farr_plunger = sqldf(\"SELECT sondenkurzname_1, abstellgrund, runlife as RL, delta_runlife, \\\n",
    "Different_abstellgrund, level3, \\\n",
    "level3A, level4, level5, previous_abstellgrund, previous_level3, previous_level3a, previous_level4,\\\n",
    "previous_level5  \\\n",
    "FROM df WHERE [Installment_FARR_plunger] LIKE \\\n",
    "'%Component installed%'\") \n",
    "\n",
    "print(installment_farr_plunger['Delta_runlife'].mean())\n",
    "print(installment_farr_plunger['Different_Abstellgrund'].sum())\n",
    "\n",
    "installment_farr_plunger"
   ]
  },
  {
   "cell_type": "code",
   "execution_count": null,
   "id": "eb7c1e85",
   "metadata": {},
   "outputs": [],
   "source": [
    "installment_sprg = sqldf(\"SELECT sondenkurzname_1, abstellgrund, runlife as RL, delta_runlife, \\\n",
    "Different_abstellgrund, level3, \\\n",
    "level3A, level4, level5, previous_abstellgrund, previous_level3, previous_level3a, previous_level4,\\\n",
    "previous_level5  \\\n",
    "FROM df WHERE [Installment_Spiral_rod_guides] LIKE \\\n",
    "'%Component installed%'\") \n",
    "\n",
    "print(installment_sprg['Delta_runlife'].mean())\n",
    "print(installment_sprg['Different_Abstellgrund'].sum())\n",
    "\n",
    "installment_sprg"
   ]
  },
  {
   "cell_type": "code",
   "execution_count": null,
   "id": "f9e218c0",
   "metadata": {
    "scrolled": true
   },
   "outputs": [],
   "source": [
    "installment_sprg = sqldf(\"SELECT sondenkurzname_1, abstellgrund, runlife as RL, delta_runlife, \\\n",
    "Different_abstellgrund, level3, \\\n",
    "level3A, level4, level5, previous_abstellgrund, previous_level3, previous_level3a, previous_level4,\\\n",
    "previous_level5  \\\n",
    "FROM df WHERE [Installment_Spiral_rod_guides] LIKE '%Component installed%' \\\n",
    "AND previous_abstellgrund LIKE '%Tiefpumpenfehler%'\") \n",
    "\n",
    "print(installment_sprg['Delta_runlife'].mean())\n",
    "print(installment_sprg['Different_Abstellgrund'].sum())\n",
    "\n",
    "installment_sprg"
   ]
  },
  {
   "cell_type": "code",
   "execution_count": null,
   "id": "29452173",
   "metadata": {},
   "outputs": [],
   "source": [
    "installment_brass = sqldf(\"SELECT sondenkurzname_1, abstellgrund, runlife as RL, delta_runlife, \\\n",
    "Different_abstellgrund, level3, \\\n",
    "level3A, level4, level5, previous_abstellgrund, previous_level3, previous_level3a, previous_level4,\\\n",
    "previous_level5  \\\n",
    "FROM df WHERE [Installment_Brass_barrel] LIKE '%Component installed%' \")\n",
    "\n",
    "print(installment_brass['Delta_runlife'].mean())\n",
    "print(installment_brass['Different_Abstellgrund'].sum())\n",
    "\n",
    "installment_brass"
   ]
  },
  {
   "cell_type": "code",
   "execution_count": null,
   "id": "4e1aa08c",
   "metadata": {},
   "outputs": [],
   "source": [
    "installment_jacket = sqldf(\"SELECT sondenkurzname_1, abstellgrund, runlife as RL, delta_runlife, \\\n",
    "Different_abstellgrund, level3, \\\n",
    "level3A, level4, level5, previous_abstellgrund, previous_level3, previous_level3a, previous_level4,\\\n",
    "previous_level5  \\\n",
    "FROM df WHERE [Installment_Jacket_pipe] LIKE '%Component installed%'\") \n",
    "\n",
    "print(installment_jacket['Delta_runlife'].mean())\n",
    "print(installment_jacket['Different_Abstellgrund'].sum())\n",
    "\n",
    "installment_jacket"
   ]
  },
  {
   "cell_type": "code",
   "execution_count": null,
   "id": "5299bf62",
   "metadata": {},
   "outputs": [],
   "source": [
    "installment_glb = sqldf(\"SELECT sondenkurzname_1, abstellgrund, runlife as RL, delta_runlife, \\\n",
    "Different_abstellgrund, level3, \\\n",
    "level3A, level4, level5, previous_abstellgrund, previous_level3, previous_level3a, previous_level4,\\\n",
    "previous_level5  \\\n",
    "FROM df WHERE [Installment_Gas_lock_breaker] LIKE '%Component installed%'\") \n",
    "\n",
    "print(installment_glb['Delta_runlife'].mean())\n",
    "print(installment_glb['Different_Abstellgrund'].sum())\n",
    "\n",
    "installment_glb"
   ]
  },
  {
   "cell_type": "code",
   "execution_count": null,
   "id": "9376172b",
   "metadata": {},
   "outputs": [],
   "source": [
    "installment_gas_anchors = sqldf(\"SELECT sondenkurzname_1, abstellgrund, runlife as RL, delta_runlife, \\\n",
    "Different_abstellgrund, level3, \\\n",
    "level3A, level4, level5, previous_abstellgrund, previous_level3, previous_level3a, previous_level4,\\\n",
    "previous_level5  \\\n",
    "FROM df WHERE [Installment_Gas_separator] LIKE '%Component installed%'\") \n",
    "\n",
    "print(installment_gas_anchors['Delta_runlife'].mean())\n",
    "print(installment_gas_anchors['Different_Abstellgrund'].sum())\n",
    "\n",
    "installment_gas_anchors"
   ]
  },
  {
   "cell_type": "code",
   "execution_count": null,
   "id": "3c44e9d7",
   "metadata": {},
   "outputs": [],
   "source": [
    "installment_desander = sqldf(\"SELECT sondenkurzname_1, abstellgrund, runlife as RL, delta_runlife, \\\n",
    "Different_abstellgrund, level3, \\\n",
    "level3A, level4, level5, previous_abstellgrund, previous_level3, previous_level3a, previous_level4,\\\n",
    "previous_level5  \\\n",
    "FROM df WHERE [Installment_Desander] LIKE '%Component installed%'\") \n",
    "\n",
    "print(installment_desander['Delta_runlife'].mean())\n",
    "print(installment_desander['Different_Abstellgrund'].sum())\n",
    "\n",
    "installment_desander"
   ]
  },
  {
   "cell_type": "code",
   "execution_count": null,
   "id": "74dcad7a",
   "metadata": {},
   "outputs": [],
   "source": [
    "installment_collet = sqldf(\"SELECT sondenkurzname_1, abstellgrund, runlife as RL, delta_runlife, \\\n",
    "Different_abstellgrund, level3, \\\n",
    "level3A, level4, level5, previous_abstellgrund, previous_level3, previous_level3a, previous_level4,\\\n",
    "previous_level5  \\\n",
    "FROM df WHERE [Installment_Collet_valve_rod_bushing] LIKE '%Component installed%'\") \n",
    "\n",
    "print(installment_collet['Delta_runlife'].mean())\n",
    "print(installment_collet['Different_Abstellgrund'].sum())\n",
    "\n",
    "installment_desander"
   ]
  },
  {
   "cell_type": "code",
   "execution_count": null,
   "id": "de2afc67",
   "metadata": {},
   "outputs": [],
   "source": [
    "installment_srg_pgbruch = sqldf(\"SELECT * FROM df WHERE [Installment_Spiral_rod_guides] IS \\\n",
    "'Component installed' AND previous_level3a LIKE 'Valve rod'\")\n",
    "\n",
    "\n",
    "print(f\"Mean Delta_runlife = {installment_srg_pgbruch['Delta_runlife'].mean()}\")\n",
    "\n",
    "installment_srg_pgbruch"
   ]
  },
  {
   "cell_type": "code",
   "execution_count": null,
   "id": "2f455fab",
   "metadata": {},
   "outputs": [],
   "source": [
    "installment_srg_pgbruch = sqldf(\"SELECT * FROM df WHERE [Installment_FARR_plunger] IS \\\n",
    "'Component installed'\")\n",
    "\n",
    "\n",
    "print(f\"Mean Delta_runlife = {installment_srg_pgbruch['Delta_runlife'].mean()}\")\n",
    "\n",
    "installment_srg_pgbruch"
   ]
  },
  {
   "cell_type": "code",
   "execution_count": null,
   "id": "2a8730a3",
   "metadata": {},
   "outputs": [],
   "source": [
    "installment_srg_pgbruch = sqldf(\"SELECT * FROM df WHERE [Installment_Spiral_rod_guides] IS \\\n",
    "'Component installed' AND previous_abstellgrund LIKE '%Pumpgestängebruch%'\")\n",
    "\n",
    "\n",
    "print(f\"Mean Delta_runlife = {installment_srg_pgbruch['Delta_runlife'].mean()}\")\n",
    "\n",
    "installment_srg_pgbruch"
   ]
  },
  {
   "cell_type": "code",
   "execution_count": null,
   "id": "fb8fdec2",
   "metadata": {},
   "outputs": [],
   "source": [
    "def scatter_hist(x, y, ax, ax_histx, ax_histy, xlabel, ylabel):\n",
    "    # no labels\n",
    "    ax_histx.tick_params(axis=\"x\", labelbottom=False)\n",
    "    ax_histy.tick_params(axis=\"y\", labelleft=False)\n",
    "\n",
    "    # the scatter plot:\n",
    "    ax.scatter(x, y)\n",
    "\n",
    "    ax_histx.hist(x, bins='scott')\n",
    "    ax_histy.hist(y, bins='scott', orientation='horizontal')\n",
    "    \n",
    "    ax.set_xlabel(xlabel)\n",
    "    ax.set_ylabel(ylabel)\n",
    "    \n",
    "def delta_plot(array, x_input, y_input, xlabel, ylabel):\n",
    "    \n",
    "    x = array[:,x_input]\n",
    "    y = array[:,y_input]\n",
    "    \n",
    "    plt.scatter(x,y)\n",
    "    plt.xlabel(xlabel)\n",
    "    plt.ylabel(ylabel)\n",
    "    plt.show()\n",
    "    \n",
    "    fig = plt.figure(figsize=(6, 6))\n",
    "\n",
    "    gs = fig.add_gridspec(2, 2,  width_ratios=(4, 1), height_ratios=(1, 4),\n",
    "                          left=0.1, right=0.9, bottom=0.1, top=0.9,\n",
    "                          wspace=0.05, hspace=0.05)\n",
    "\n",
    "    ax = fig.add_subplot(gs[1, 0])\n",
    "    ax_histx = fig.add_subplot(gs[0, 0], sharex=ax)\n",
    "    ax_histy = fig.add_subplot(gs[1, 1], sharey=ax)\n",
    "\n",
    "\n",
    "    scatter_hist(array[:,x_input], array[:,y_input], ax, ax_histx, ax_histy, xlabel, ylabel)"
   ]
  },
  {
   "cell_type": "code",
   "execution_count": null,
   "id": "24a335be",
   "metadata": {},
   "outputs": [],
   "source": [
    "df = df.dropna(subset = ('Delta_DLS', 'Delta_depth', 'Delta_Pumping_speed','Delta_runlife'))\n",
    "df_undicht = sqldf(\"SELECT * FROM df WHERE Previous_ABSTELLGRUND LIKE '%Installation undicht%'\")\n",
    "df_pgbruch = sqldf(\"SELECT * FROM df WHERE Previous_ABSTELLGRUND LIKE '%Pumpgestängebruch%'\")\n",
    "df_tpfehler = sqldf(\"SELECT * FROM df WHERE Previous_ABSTELLGRUND LIKE '%Tiefpumpenfehler%'\")\n",
    "\n",
    "array = df[['Delta_DLS', 'Delta_depth', 'Delta_Pumping_speed', 'Delta_runlife']].to_numpy()\n",
    "array_undicht = df_undicht[['Delta_DLS', 'Delta_depth', 'Delta_Pumping_speed', 'Delta_runlife']].to_numpy()\n",
    "array_pgbruch = df_pgbruch[['Delta_DLS', 'Delta_depth', 'Delta_Pumping_speed', 'Delta_runlife']].to_numpy()\n",
    "array_tpfehler = df_tpfehler[['Delta_DLS', 'Delta_depth', 'Delta_Pumping_speed','Delta_runlife']].to_numpy()"
   ]
  },
  {
   "cell_type": "code",
   "execution_count": null,
   "id": "7d477d4e",
   "metadata": {
    "scrolled": true
   },
   "outputs": [],
   "source": [
    "delta_plot(array, 0, 3, 'Delta DLS [°/30m]', 'Delta runlife [d]')"
   ]
  },
  {
   "cell_type": "code",
   "execution_count": null,
   "id": "534e9207",
   "metadata": {
    "scrolled": true
   },
   "outputs": [],
   "source": [
    "delta_plot(array, 1, 3, 'Delta setting depth [m]', 'Delta runlife [d]')"
   ]
  },
  {
   "cell_type": "code",
   "execution_count": null,
   "id": "9a255a77",
   "metadata": {},
   "outputs": [],
   "source": [
    "delta_plot(array, 2, 3, 'Delta pumping speed [spm]', 'Delta runlife [d]')"
   ]
  },
  {
   "cell_type": "code",
   "execution_count": null,
   "id": "7aff2894",
   "metadata": {},
   "outputs": [],
   "source": [
    "delta_plot(array_undicht, 0, 3, 'Delta DLS [°/30m]', 'Delta runlife [d]')"
   ]
  },
  {
   "cell_type": "code",
   "execution_count": null,
   "id": "d29df3b2",
   "metadata": {},
   "outputs": [],
   "source": [
    "delta_plot(array_undicht, 1, 3, 'Delta setting depth [m]', 'Delta runlife [d]')"
   ]
  },
  {
   "cell_type": "code",
   "execution_count": null,
   "id": "32263812",
   "metadata": {},
   "outputs": [],
   "source": [
    "delta_plot(array_undicht, 2, 3, 'Delta pumping speed [spm]', 'Delta runlife [d]')"
   ]
  },
  {
   "cell_type": "code",
   "execution_count": null,
   "id": "fe1c7ead",
   "metadata": {},
   "outputs": [],
   "source": [
    "delta_plot(array_pgbruch, 0, 3, 'Delta DLS [°/30m]', 'Delta runlife [d]')"
   ]
  },
  {
   "cell_type": "code",
   "execution_count": null,
   "id": "4c68a7d0",
   "metadata": {},
   "outputs": [],
   "source": [
    "delta_plot(array_pgbruch, 1, 3, 'Delta setting depth [m]', 'Delta runlife [d]')"
   ]
  },
  {
   "cell_type": "code",
   "execution_count": null,
   "id": "3bfe6e22",
   "metadata": {},
   "outputs": [],
   "source": [
    "delta_plot(array_pgbruch, 2, 3, 'Delta pumping speed [spm]', 'Delta runlife [d]')"
   ]
  },
  {
   "cell_type": "code",
   "execution_count": null,
   "id": "e640a985",
   "metadata": {},
   "outputs": [],
   "source": [
    "delta_plot(array_tpfehler, 0, 3, 'Delta DLS [°/30m]', 'Delta runlife [d]')"
   ]
  },
  {
   "cell_type": "code",
   "execution_count": null,
   "id": "73c6041c",
   "metadata": {},
   "outputs": [],
   "source": [
    "delta_plot(array_tpfehler, 1, 3, 'Delta setting depth [m]', 'Delta runlife [d]')"
   ]
  },
  {
   "cell_type": "code",
   "execution_count": null,
   "id": "4add60f8",
   "metadata": {},
   "outputs": [],
   "source": [
    "delta_plot(array_tpfehler, 2, 3, 'Delta pumping speed [spm]', 'Delta runlife [d]')"
   ]
  }
 ],
 "metadata": {
  "kernelspec": {
   "display_name": "Python 3 (ipykernel)",
   "language": "python",
   "name": "python3"
  },
  "language_info": {
   "codemirror_mode": {
    "name": "ipython",
    "version": 3
   },
   "file_extension": ".py",
   "mimetype": "text/x-python",
   "name": "python",
   "nbconvert_exporter": "python",
   "pygments_lexer": "ipython3",
   "version": "3.11.0"
  }
 },
 "nbformat": 4,
 "nbformat_minor": 5
}
